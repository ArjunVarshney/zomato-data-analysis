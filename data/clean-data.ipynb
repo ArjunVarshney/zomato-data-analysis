{
 "cells": [
  {
   "cell_type": "markdown",
   "id": "02aeec30",
   "metadata": {},
   "source": [
    "## Combining all the data in \"zomato data\" folder"
   ]
  },
  {
   "cell_type": "code",
   "execution_count": null,
   "id": "30195851",
   "metadata": {},
   "outputs": [],
   "source": [
    "import os\n",
    "import pandas as pd\n",
    "\n",
    "def combine_csv_files(root_dir):\n",
    "    all_data = pd.DataFrame()\n",
    "    \n",
    "    for root, dirs, files in os.walk(root_dir):\n",
    "        for file in files:\n",
    "            if file.endswith(\".csv\"):\n",
    "                file_path = os.path.join(root, file).replace('\\\\',\"/\")\n",
    "                data = pd.read_csv(file_path,sep = \"|\")\n",
    "                all_data = pd.concat([all_data, data], ignore_index=True)\n",
    "    \n",
    "    return all_data\n",
    "\n",
    "df = combine_csv_files(\".\")\n",
    "df.shape"
   ]
  },
  {
   "cell_type": "markdown",
   "id": "7ddc060b",
   "metadata": {},
   "source": [
    "## Removing the duplicate values"
   ]
  },
  {
   "cell_type": "code",
   "execution_count": null,
   "id": "4f2fcefa",
   "metadata": {},
   "outputs": [],
   "source": [
    "df=df.drop_duplicates()"
   ]
  },
  {
   "cell_type": "markdown",
   "id": "5a3487a9",
   "metadata": {},
   "source": [
    "## Exporting the data as another csv file"
   ]
  },
  {
   "cell_type": "code",
   "execution_count": null,
   "id": "51af2885",
   "metadata": {},
   "outputs": [],
   "source": [
    "df.to_csv(\"zomato-data.csv\")"
   ]
  },
  {
   "cell_type": "markdown",
   "id": "41948f99",
   "metadata": {},
   "source": [
    "## Combining the data for zomato-data-1 and zomato-data-2"
   ]
  },
  {
   "cell_type": "code",
   "execution_count": null,
   "id": "7c1f4530",
   "metadata": {},
   "outputs": [],
   "source": [
    "df1 = pd.read_csv(\"./zomato-data-1/zomato.csv\")\n",
    "df2 = pd.read_csv(\"./zomato-data-2/zomato.csv\")\n",
    "\n",
    "df1.columns, df2.columns"
   ]
  },
  {
   "cell_type": "code",
   "execution_count": null,
   "id": "0d1fa8a7",
   "metadata": {},
   "outputs": [],
   "source": [
    "data = pd.concat([df1, df2], ignore_index=True)\n",
    "data.shape"
   ]
  },
  {
   "cell_type": "code",
   "execution_count": null,
   "id": "44bf4346",
   "metadata": {},
   "outputs": [],
   "source": [
    "data.duplicated().sum()"
   ]
  },
  {
   "cell_type": "code",
   "execution_count": null,
   "id": "9e9583d4",
   "metadata": {},
   "outputs": [],
   "source": [
    "data = data.drop_duplicates()"
   ]
  },
  {
   "cell_type": "code",
   "execution_count": null,
   "id": "c8780750",
   "metadata": {},
   "outputs": [],
   "source": [
    "data.to_csv(\"./zomato-restaurants.csv\")"
   ]
  },
  {
   "cell_type": "code",
   "execution_count": null,
   "id": "33890a9c",
   "metadata": {},
   "outputs": [],
   "source": []
  }
 ],
 "metadata": {
  "kernelspec": {
   "display_name": "Python 3 (ipykernel)",
   "language": "python",
   "name": "python3"
  },
  "language_info": {
   "codemirror_mode": {
    "name": "ipython",
    "version": 3
   },
   "file_extension": ".py",
   "mimetype": "text/x-python",
   "name": "python",
   "nbconvert_exporter": "python",
   "pygments_lexer": "ipython3",
   "version": "3.10.9"
  }
 },
 "nbformat": 4,
 "nbformat_minor": 5
}
